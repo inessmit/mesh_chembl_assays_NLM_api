{
 "cells": [
  {
   "cell_type": "code",
   "execution_count": null,
   "metadata": {
    "collapsed": true
   },
   "outputs": [],
   "source": [
    "import sqlalchemy as al\n",
    "import logging\n",
    "import MTI_api_functions as maf\n",
    "import os"
   ]
  },
  {
   "cell_type": "code",
   "execution_count": null,
   "metadata": {
    "collapsed": true
   },
   "outputs": [],
   "source": [
    "# Personal login details in correct format for sqlalchemy\n",
    "with open('/homes/ines/alchemy_ines_login.txt', 'r') as f:\n",
    "    engine = al.create_engine(f.read())"
   ]
  },
  {
   "cell_type": "code",
   "execution_count": null,
   "metadata": {
    "collapsed": true
   },
   "outputs": [],
   "source": [
    "# Set up logging\n",
    "logging.basicConfig(format='%(asctime)s %(message)s', filename='./logs/heart_assays.log', level=logging.DEBUG)"
   ]
  },
  {
   "cell_type": "code",
   "execution_count": null,
   "metadata": {
    "collapsed": true
   },
   "outputs": [],
   "source": [
    "# Set up default directories\n",
    "MTI_dir_default = '/nfs/research2/jpo/shared/projects/HeCaToS/mesh_api/SKR_Web_API_V2_1'\n",
    "example_dir_default = '/nfs/research2/jpo/shared/projects/HeCaToS/mesh_api/SKR_Web_API_V2_1/examples'"
   ]
  },
  {
   "cell_type": "code",
   "execution_count": null,
   "metadata": {
    "collapsed": true
   },
   "outputs": [],
   "source": [
    "# STEP 4. Create database tables and insert results from output text files into oracle tables \n",
    "maf.create_db_tables(engine, 'mesh_heart_assays')\n",
    "\n",
    "for directory in [item for item in os.listdir('./outputfiles') if 'DS_Store' not in item]:\n",
    "    my_outputfiles = example_dir_default+'/outputfiles/'+directory\n",
    "    maf.insert_results_into_oracle(engine, 'mesh_heart_assays', my_outputfiles)\n",
    "\n",
    "maf.create_indexes(engine, 'mesh_heart_assays')"
   ]
  },
  {
   "cell_type": "code",
   "execution_count": null,
   "metadata": {
    "collapsed": true
   },
   "outputs": [],
   "source": [
    "# At the end it would be good to check the logs in case any assays within the file had not been processed.\n",
    "# I had some cases returning 'ERROR' on the row, there should be a comment about that in the log.\n",
    "# If there are any ERRORS you should check the assay_ids in the outputfiles against those in the inputfiles and see if any are missing.\n",
    "# Or compare the assay_ids in the sql table with results to the original sql statement and see if any assay_ids are missing.\n",
    "# I did not figure out why some assay ids gave an ERROR, when I reran them they were fine.\n",
    "# The only case that gives an error is if the assay description ends in a period, this gave an error, but this is stripped when making the inputfiles."
   ]
  }
 ],
 "metadata": {
  "kernelspec": {
   "display_name": "Python 3",
   "language": "python",
   "name": "python3"
  },
  "language_info": {
   "codemirror_mode": {
    "name": "ipython",
    "version": 3
   },
   "file_extension": ".py",
   "mimetype": "text/x-python",
   "name": "python",
   "nbconvert_exporter": "python",
   "pygments_lexer": "ipython3",
   "version": "3.4.3"
  }
 },
 "nbformat": 4,
 "nbformat_minor": 0
}
