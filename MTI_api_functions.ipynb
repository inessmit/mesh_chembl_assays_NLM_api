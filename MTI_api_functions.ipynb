{
 "cells": [
  {
   "cell_type": "code",
   "execution_count": 2,
   "metadata": {
    "collapsed": true
   },
   "outputs": [],
   "source": [
    "import sqlalchemy as al\n",
    "import os\n",
    "import itertools\n",
    "import logging"
   ]
  },
  {
   "cell_type": "markdown",
   "metadata": {},
   "source": [
    "Notes README\n",
    "* file hierarchy\n",
    "* talk about changes I made in the java files\n",
    "* take note of command/options used, as well as need for umls license and password insert into GenericBatchUser file.\n",
    "* explain about the failing jobs and errors\n",
    "\n",
    "* example script"
   ]
  },
  {
   "cell_type": "code",
   "execution_count": 14,
   "metadata": {
    "collapsed": true
   },
   "outputs": [],
   "source": [
    "def get_assay_descriptions(engine, condition = None):\n",
    "    \"\"\"Connect to engine and gets all assay descriptions from ChEMBL to iterable for use in make_input_files function.\n",
    "    kwargs: engine -- str, database engine e.g. sqlalchemy engine\"\"\"\n",
    "    connection = engine.connect()\n",
    "    sql = \"select assay_id, trim('.' from description) from chembl_21.assays where description is not null\"\n",
    "    if condition != None:\n",
    "        sql = sql + ' and ' + condition\n",
    "    result = engine.execute(sql).fetchall()\n",
    "    connection.close()\n",
    "    return(result)"
   ]
  },
  {
   "cell_type": "code",
   "execution_count": 27,
   "metadata": {
    "collapsed": false
   },
   "outputs": [],
   "source": [
    "def make_input_files(db_result, nr_assays = 4000, nr_files = 100, path_to_inputfiles = './inputfiles'): \n",
    "    \"\"\"Create text files containing assay_ids and ChEMBL assay descriptions for use as input to Medical Text Indexer.\n",
    "    Place the inputfiles in numbered directories within the provided directory.\n",
    "    If no directory is given, create the directory 'inputfiles' if it does not exist yet and remove all existing contents before filling it.\n",
    "    kwargs: db_result -- iterable containing tuples with assay_ids and assay_descriptions from ChEMBL\n",
    "        nr_assays -- int, number of assays (rows) to be put in one text file\n",
    "        nr_files -- int, number of inputfiles to be put in one numbered subdirectory of the inputfiles directory\"\"\"\n",
    "\n",
    "    # The number 4000 is arbitary, there are no limits from the NLM API side, apart from the note that it's more efficient to submit many lines per file than few. \n",
    "    \n",
    "    def grouper(n, iterable):\n",
    "        it = iter(iterable)\n",
    "        while True:\n",
    "            chunk = tuple(itertools.islice(it, n))\n",
    "            if not chunk:\n",
    "                return\n",
    "            yield chunk\n",
    "\n",
    "    #create inputfiles directory, empty old contents\n",
    "    if not os.path.exists(path_to_inputfiles):\n",
    "        os.makedirs(path_to_inputfiles)\n",
    "    os.system('rm -rf ./inputfiles/*')\n",
    "        \n",
    "    # create inputfiles\n",
    "    filenumber = 0\n",
    "    for chunk in grouper(nr_assays, db_result):\n",
    "        filenumber += 1\n",
    "\n",
    "        directory = '000'+str(int(1+filenumber/nr_files)) \n",
    "        if not os.path.exists(path_to_inputfiles+'/'+directory):\n",
    "            os.makedirs(path_to_inputfiles+'/'+directory)\n",
    "\n",
    "        filepath = path_to_inputfiles+'/'+directory+'/input' + str(filenumber) + '.txt'\n",
    "    \n",
    "        file = open(filepath, 'w')\n",
    "        for item in chunk:\n",
    "            file.write('\"'+str(item[0])+'\"|'+item[1].replace('prostrate', 'prostate').replace('Prostrate', 'Prostate')+'\\n') # typo in ChEMBL_21\n",
    "        file.close()"
   ]
  },
  {
   "cell_type": "code",
   "execution_count": null,
   "metadata": {
    "collapsed": true
   },
   "outputs": [],
   "source": [
    "# Need to define paths\n",
    "# The scripts assume a path to the 'SKR_Web_API_V2_1' directory as downloaded from NCBI Medical Text Indexer website.\n",
    "# The 'SKR_Web_API_V2_1' directory needs to contain the run.sh file.\n",
    "# The 'examples' directory contains the java files (e.g. I have been using GenericBatchUser.java)\n",
    "\n",
    "# path_to_MTI_dir = '/nfs/research2/jpo/shared/projects/HeCaToS/mesh_api/SKR_Web_API_V2_1/'\n",
    "# path_to_files_dir = '/nfs/research2/jpo/shared/projects/HeCaToS/mesh_api/SKR_Web_API_V2_1/examples'"
   ]
  },
  {
   "cell_type": "code",
   "execution_count": null,
   "metadata": {
    "collapsed": true
   },
   "outputs": [],
   "source": [
    "def submit_job_array_for_inputdir(inputfiles_dir, inputfiles_subdir, email, path_to_MTI_dir='/nfs/research2/jpo/shared/projects/HeCaToS/mesh_api/SKR_Web_API_V2_1', path_to_files_dir='/nfs/research2/jpo/shared/projects/HeCaToS/mesh_api/SKR_Web_API_V2_1/examples'):\n",
    "    \"\"\"Submit a job array using bsub referring to the inputfiles in the given inputfiles directory to get the results from the Java-based Medical Text Indexer web services.\n",
    "    kwargs: path_to_MTI_dir -- str, full path to the directory with MTI files in it, as downloaded from them, called 'SKR_Web_API_V2_1'\n",
    "            path_to_files_dir -- str, full path to the directory within the MTI directory in which the java files are stored, this is called 'examples' in the downloaded 'SKR_Web_API_V2_1' directory.\n",
    "            inputfiles_dir -- str, name of the directory that contains the numbered subdirectories which in turn contain the inputfiles. Must be located within path_to_files_dir.\n",
    "            inputfiles_subdir -- str, name of a specific subdirectory of the inputfiles directory (as defined under 'inputfiles_dir') for which you want to submit an array. \n",
    "            email -- str email address mandatory for using NLM API\n",
    "    \"\"\"\n",
    "    # This function expects a hierarchical file structure in which the parent directory 'SKR_Web_API_V2_1' contains the run.sh file.\n",
    "    # Within 'SKR_Web_API_V2_1' there should be a subdirectory with the java files for e.g. GenericBatchUser.java\n",
    "    # Within this subdirectory this function expects an 'inputfiles' directory that contains subdirectories with the inputfiles. There should be max. 1000 inputfiles in each subdirectory because this is the max size of an array for bsub.\n",
    "    # This function will make the directories 'outputfiles' and 'errorfiles' if they don't yet exist.\n",
    "\n",
    "    inputfiles = [int(file.strip('.txt').strip('input')) for file in os.listdir(path_to_files_dir+'/'+inputfiles_dir+'/'+inputfiles_subdir) if 'input' in file]\n",
    "\n",
    "    if not os.path.exists(path_to_files_dir+'/errorfiles/'+inputfiles_subdir):\n",
    "        os.makedirs(path_to_files_dir+'/errorfiles/'+inputfiles_subdir)\n",
    "    if not os.path.exists(path_to_files_dir+'/outputfiles/'+inputfiles_subdir):\n",
    "        os.makedirs(path_to_files_dir+'/outputfiles/'+inputfiles_subdir)\n",
    "\n",
    "    errorfiles = path_to_files_dir+'/errorfiles/'+inputfiles_subdir+'/errors%J_%I'\n",
    "    outputfiles = path_to_files_dir+'/outputfiles/'+inputfiles_subdir+'/output%I'\n",
    "    script = path_to_MTI_dir+'/run.sh'\n",
    "    inputfiles_spec = path_to_files_dir+'/'+inputfiles_dir+'/'+inputfiles_subdir+'/input\\$LSB_JOBINDEX.txt'\n",
    "    outputfiles_spec = path_to_files_dir+'/outputfiles/'+inputfiles_subdir+'/output\\$LSB_JOBINDEX'\n",
    "\n",
    "    # In the command below, one job is run at a time. It was recommended by NLM MTI support to run max 2-3 jobs at a time, otherwise things slow down.\n",
    "    command = 'bsub -J \"myArray[{0}-{1}]%1\" -e \"'+errorfiles+'\" -o \"'+outputfiles+'\" \"'+script+' GenericBatchUser --email '+email+' --singleLinePMID '+inputfiles_spec+' > '+outputfiles_spec+'\"'\n",
    "    formatted_command = command.format(min(inputfiles), max(inputfiles), inputfiles_subdir)\n",
    "    os.system(formatted_command)\n"
   ]
  },
  {
   "cell_type": "code",
   "execution_count": null,
   "metadata": {
    "collapsed": true
   },
   "outputs": [],
   "source": [
    "def redo_failed_jobs(inputfiles_dir, inputfiles_subdir, email, path_to_files_dir='/nfs/research2/jpo/shared/projects/HeCaToS/mesh_api/SKR_Web_API_V2_1/examples', path_to_MTI_dir = '/nfs/research2/jpo/shared/projects/HeCaToS/mesh_api/SKR_Web_API_V2_1'):\n",
    "    \"\"\"Detect which outputfiles in a subdirectory of outputfiles have failed (based on size of the file) and resubmit them in an array\n",
    "    kwargs: path_to_MTI_dir -- str, full path to the directory with MTI files in it, as downloaded from them, called 'SKR_Web_API_V2_1'\n",
    "            path_to_files_dir -- str, full path to the directory within the MTI directory in which the java files are stored, this is called 'examples' in the downloaded 'SKR_Web_API_V2_1' directory.\n",
    "            inputfiles_dir -- str, name of the directory that contains the numbered subdirectories which in turn contain the inputfiles. Must be located within path_to_files_dir.\n",
    "            inputfiles_subdir -- str, name of a specific subdirectory of the inputfiles directory (as defined under 'inputfiles_dir') for which you want to redo failed jobs.\n",
    "            email -- str email address mandatory for using NLM API\n",
    "    \"\"\"\n",
    "    \n",
    "    logging.info('Starting to check missing files in {}'.format(inputfiles_subdir))\n",
    "    \n",
    "    missing_files = [file.strip('output') for file in os.listdir(path_to_files_dir+'/'+'outputfiles'+'/'+inputfiles_subdir) if os.path.getsize(path_to_files_dir+'/'+'outputfiles'+'/'+inputfiles_subdir+'/'+file) < 20000]\n",
    "    missing_files_formatted = ','.join(missing_files)\n",
    "    \n",
    "    if len(missing_files) == 0:\n",
    "        logging.info('No missing files detected in {}'.format(inputfiles_subdir))\n",
    "        return\n",
    "    else:\n",
    "        logging.info('Missing file(s) detected, starting to rerun missing files for {}'.format(inputfiles_subdir))\n",
    "        \n",
    "    errorfiles = path_to_files_dir+'/errorfiles/{1}/errors%J_%I'\n",
    "    outputfiles = path_to_files_dir+'/outputfiles/{1}/output%I'\n",
    "    script = path_to_MTI_dir+'/run.sh'\n",
    "    inputfiles_spec = path_to_files_dir+'/'+inputfiles_dir+'/{1}/input\\$LSB_JOBINDEX.txt'\n",
    "    outputfiles_spec = path_to_files_dir+'/outputfiles/{1}/output\\$LSB_JOBINDEX'\n",
    "\n",
    "    command = 'bsub -J \"myArray[{0}]%1\" -e \"'+errorfiles+'\" -o \"'+outputfiles+'\" \"'+script+' GenericBatchUser --email '+email+' --singleLinePMID '+inputfiles_spec+' > '+outputfiles_spec+'\"'\n",
    "    formatted_command = command.format(missing_files_formatted, inputfiles_subdir)\n",
    "    os.system(formatted_command)\n",
    "    \n",
    "    logging.info('Submitted missing files from {}'.format(inputfiles_subdir))"
   ]
  },
  {
   "cell_type": "code",
   "execution_count": 1,
   "metadata": {
    "collapsed": true
   },
   "outputs": [],
   "source": [
    "def create_db_tables(engine, annotation_table):\n",
    "    \"\"\"Create tables for storing mesh annotations per assay_id in my own Oracle area. Only needs to be done once.\n",
    "    kwargs: engine -- str, database engine e.g. sqlalchemy engine\n",
    "            annotation_table -- str, name of the table for storing the assay_id together with ids for descriptors and qualifiers\"\"\"\n",
    "    engine.execute('''\n",
    "    create table {}\n",
    "    (\n",
    "    assay_id int\n",
    "    , descriptor_ui varchar2(50)\n",
    "    , descriptor_text varchar(200)\n",
    "    , umls_id varchar2(50)\n",
    "    , score int\n",
    "    , term_type varchar2(50)\n",
    "    , misc varchar(1000)\n",
    "    , paths varchar(50)\n",
    "    , comments varchar2(400)\n",
    "    )\n",
    "     '''.format(annotation_table))\n",
    "    \n",
    "    engine.execute(\"COMMENT ON COLUMN {}.assay_id IS 'ChEMBL assay_id'\".format(annotation_table))\n",
    "    engine.execute(\"COMMENT ON COLUMN {}.descriptor_ui IS 'Unique identifier for the subject heading. Every identifier begins with the letter D (for descriptor). Unique IDs starting with C are supplementary concepts.'\".format(annotation_table))\n",
    "    engine.execute(\"COMMENT ON COLUMN {}.descriptor_text IS 'Preferred term for the concept. Preferred term for the concept, unique for the descriptor ID.'\".format(annotation_table))\n",
    "    engine.execute(\"COMMENT ON COLUMN {}.umls_id IS 'Concept Unique Identifier for the MeSH Term. A single e.g. descriptor record will have one or more concepts, one of which is the preferred concept of the record.'\".format(annotation_table))\n",
    "    engine.execute(\"COMMENT ON COLUMN {}.score IS 'Medical Text Indexer Score for this term'\".format(annotation_table))\n",
    "    engine.execute(\"COMMENT ON COLUMN {}.term_type IS 'Type of the term. MeSH Heading (MH), Heading Mapped to (HM), Entry Term (ET), Supplemental Concept(NM), MeSH SubHeading (SH), MeSH CheckTag (CT)'\".format(annotation_table))\n",
    "    engine.execute(\"COMMENT ON COLUMN {}.misc IS 'If via entry term, this explains the replacement. If not, blank'\".format(annotation_table))\n",
    "    engine.execute(\"COMMENT ON COLUMN {}.paths IS 'One or more designators showing which of the pathways recommended the term. MetaMap''s MMI (MM), PubMed Related Citations (RC)'\".format(annotation_table))\n",
    "    \n",
    "    logging.info('database table called {} created'.format(annotation_table))"
   ]
  },
  {
   "cell_type": "code",
   "execution_count": null,
   "metadata": {
    "collapsed": true
   },
   "outputs": [],
   "source": [
    "def insert_results_into_oracle(engine, annotation_table, outputfiles_path):\n",
    "    \"\"\"Insert results from output text files into oracle table. If no terms were suggested for the assay 'no terms suggested' is writtin in the comments column.\n",
    "    kwargs: engine -- str, database engine e.g. sqlalchemy engine\n",
    "            annotation_table -- str, name of the table for storing the pmid together with ids for descriptors and qualifiers\n",
    "            outputfiles_path -- path to directory containing outputfiles\n",
    "            \"\"\"\n",
    "    logging.info('Started inserting files from {}'.format(outputfiles_path))\n",
    "    \n",
    "    for outputfile in [file for file in os.listdir(outputfiles_path) if 'output' in file]:\n",
    "        \n",
    "        logging.info('started with file ' + outputfile)\n",
    "        \n",
    "        with open(outputfiles_path+'/'+outputfile, 'r') as f:\n",
    "            result = f.readlines()\n",
    "\n",
    "        for line in result:\n",
    "\n",
    "            if '||||' in line:\n",
    "                assay_id = line.split('\"')[1]\n",
    "                sql = '''insert into {}(assay_id, descriptor_ui, comments) values({}, 'not applicable', 'no terms suggested')'''.format(annotation_table, assay_id)\n",
    "                engine.execute(sql)\n",
    "                continue\n",
    "\n",
    "            else:\n",
    "                try:\n",
    "                    fields = line.split('|')\n",
    "\n",
    "                    try:\n",
    "                        assay_id = int(str(fields[0]).strip('\"'))\n",
    "                        descriptor_text = fields[1].strip(\"*\").replace(\"'\", \"''\")\n",
    "                        umls_id = fields[2]\n",
    "                        score = fields[3]\n",
    "                        term_type = fields[4].replace(\"'\", \"''\")\n",
    "                        misc = fields[5].replace(\"'\", \"''\")\n",
    "                        paths = fields[7].replace(\"'\", \"''\")\n",
    "                        descriptor_ui = fields[8].strip('\\n') # haven't tested the stripping here\n",
    "\n",
    "                        sql = \"\"\"insert into {}(assay_id, descriptor_ui, descriptor_text, umls_id, score, term_type, misc, paths) \n",
    "                        values({}, '{}', '{}', '{}', {}, '{}', '{}', '{}')\"\"\".format(annotation_table, assay_id, descriptor_ui, descriptor_text, umls_id, score, term_type, misc, paths)\n",
    "\n",
    "                        engine.execute(sql)\n",
    "\n",
    "                    except IndexError:\n",
    "                        logging.info('Problem at assay_id {}: Did not extract the fields correctly'.format(assay_id))\n",
    "                        next\n",
    "\n",
    "                except ValueError:\n",
    "                    # This exception happens when '|' is not in the line. This happens at the end of the outputfile where there are some lines reporting on the lsf job. These lines can be ignored. \n",
    "                    # However, it also happens when 'ERROR' is returned by the API instead of the data, which happened randomly throughout the files.\n",
    "                    # These lines had 'ERROR' returned on the line (no assay_id on the line) and upon checking the set of assay_ids some were missing.\n",
    "                    # These missing should be rerun and inserted. (have no function for that)\n",
    "                    if 'ERROR' in line:\n",
    "                        logging.info(\"Problem at this line, contains the string 'ERROR'. Check assay_ids against the input files (or original sql statement) to check if any assay_ids are missing.\")\n",
    "                    next\n",
    "\n",
    "        logging.info('finished with file ' + outputfile)\n",
    "    logging.info('Finished inserting files from {}'.format(outputfiles_path))"
   ]
  },
  {
   "cell_type": "code",
   "execution_count": 5,
   "metadata": {
    "collapsed": true
   },
   "outputs": [],
   "source": [
    "def create_indexes(engine, annotation_table):\n",
    "    \"\"\"Create indexes on the tables containing mesh annotations per assay_id.\n",
    "    kwargs: engine -- str, database engine e.g. sqlalchemy engine\n",
    "            annotation_table -- str, name of the table for storing the pmid together with ids for descriptors and qualifiers\"\"\"\n",
    "    \n",
    "    engine.execute(\"CREATE INDEX test_dui ON {}(descriptor_ui)\".format(annotation_table))\n",
    "    engine.execute(\"CREATE INDEX test_dtext ON {}(descriptor_text)\".format(annotation_table))\n",
    "    engine.execute(\"CREATE INDEX test_idx ON {}(assay_id, descriptor_ui, descriptor_text)\".format(annotation_table))\n",
    "\n",
    "    logging.info('Indexes on table {} created'.format(annotation_table))\n"
   ]
  },
  {
   "cell_type": "code",
   "execution_count": null,
   "metadata": {
    "collapsed": true
   },
   "outputs": [],
   "source": []
  }
 ],
 "metadata": {
  "kernelspec": {
   "display_name": "Python 3",
   "language": "python",
   "name": "python3"
  },
  "language_info": {
   "codemirror_mode": {
    "name": "ipython",
    "version": 3
   },
   "file_extension": ".py",
   "mimetype": "text/x-python",
   "name": "python",
   "nbconvert_exporter": "python",
   "pygments_lexer": "ipython3",
   "version": "3.4.3"
  }
 },
 "nbformat": 4,
 "nbformat_minor": 0
}
